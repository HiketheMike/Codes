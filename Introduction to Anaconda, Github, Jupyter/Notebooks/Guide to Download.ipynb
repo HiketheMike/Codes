{
 "cells": [
  {
   "cell_type": "markdown",
   "id": "56ba8f09",
   "metadata": {},
   "source": [
    "## **Table of Contents**\n",
    "1. [Anaconda Navigator](#1-anaconda-navigator)\n",
    "    - [Download](#anaconda-navigator-installation)\n",
    "    - [Video Guide](#video-guide-from-the-official-anaconda-website)\n",
    "    - [Getting used to Anaconda Navigator](#getting-used-to-anaconda)\n",
    "2. [Jupyter Lab*](#jupyter-lab-guide)\n",
    "    - [Overview](#main-overview)\n",
    "    - [Creating and Exporting a Notebook on Lab](#creating-and-exporting-a-notebook-on-lab)\n",
    "    - [Accessing Folder](#accessing-folders)\n",
    "    - [Check Current working Directory](#checking-the-current-working-directory)\n",
    "3. [Github Desktop](#github-desktop)\n",
    "    - [Download](#github-desktop-installation)\n",
    "    - [Cloning](#cloning-a-github-repository-downloading-data-from-github)\n",
    "    - [Pulling](#pulling-a-github-repository-updating-local-folder)\n",
    "4. [Visual Studio Code*](#visual-studio-code)\n",
    "    - [Download](#visual-studio-code-installation)\n",
    "    - [Creating and Exporting a Notebook on VSC](#creating-and-exporting-a-notebook-on-vsc)\n",
    "    - [Choosing the folder downloaded from Github Desktop](#choosing-the-folder-downloaded-from-github-desktop)\n",
    "\n",
    "\n",
    "Either **Jupyter Lab** or **Visual Studio Code** works fine, though the latter require you to download it extra. Both of the apps needs to be opened with **Anaconda Navigator** first or it might not work as intended."
   ]
  },
  {
   "cell_type": "markdown",
   "id": "21572ba7-e7db-45c4-bfcd-9171552acfd6",
   "metadata": {},
   "source": [
    "<a name=\"1-anaconda-navigator\"> </a>\n",
    "# <span style='color:orange'> Anaconda Navigator </span>\n",
    "<img src=\"../Pictures/Anaconda logo.jpg\" style='width:500px; height:250px; margin:10px auto'>\n",
    "\n",
    "- To have access to Data science tools in just 1 download (contains Python, and some other applications)"
   ]
  },
  {
   "cell_type": "markdown",
   "id": "560c4f0b-7ef7-449e-a45d-f64db1b583c4",
   "metadata": {},
   "source": [
    "<a name='anaconda-navigator-installation'> </a>\n",
    "## <span style='color:red'> Anaconda Navigator Installation\n"
   ]
  },
  {
   "cell_type": "markdown",
   "id": "9cd45f9c-8def-4548-b9da-7a1b038eae7a",
   "metadata": {},
   "source": [
    "<div style = 'border:2px solid black; padding:10px'>\n",
    "\n",
    "## **Step 1:**\n",
    "- Go to [Anaconda Navigator](https://www.anaconda.com/products/navigator)\n",
    "- Press **Download Now**\n",
    "-  **Skip registration** for email for now."
   ]
  },
  {
   "cell_type": "markdown",
   "id": "897148e4-2ff4-48de-8e17-34f7d100efca",
   "metadata": {},
   "source": [
    "<div style= 'border:2px solid black; padding:10px'>\n",
    "    \n",
    "## **Step 2: Choose a suitable version for your Device**\n",
    "\n",
    "- Go to **Distribution Installers** not **Miniconda Installers** and choose a suitable version.\n",
    "- Check the guide below to find your suitable version.\n",
    "\n",
    "<img src= '../Pictures/Anaconda_versions.png' style ='margin:10px auto; display:block; height:400px; width:1000px'>\n",
    "\n",
    "    \n",
    "### 🪟 *Windows Guide*\n",
    "- For Windows, we only need to click on either the **Default installation** or the **64-Bit Graphical Installer (912.3M)** to download.\n",
    "\n",
    "\n",
    "    \n",
    "### 🍎*MacOS Guide*\n",
    "- You will be asked to download either **Intel** or **Apple Silicon**. The installation of this depends on whether your Mac is running on an INTEL or M1/M2/M3 chip. Here are the steps for you to check:\n",
    "   - Click on the **Apple icon** on the top left of your screen and go to **About This Mac** and look for **Chip**:\n",
    "   - If you see:\n",
    "     - `Apple M1`, `M2`, or `M3` --> **Download Apple Silicon** OR **64-Bit (Apple silicon) Graphical Installer (704.7M)**\n",
    "     - `Intel Core i5`, `i7`, etc. --> **Download Intel** OR **64-Bit (Intel chip) Graphical Installer (734.7M)**\n",
    "    \n",
    "- Don't DOWNLOAD **64-Bit (Apple silicon) Command Line Installer (707.3M)** OR **64-Bit (Intel chip) Command Line Installer (731.2M)** as they require you to use the command prompt to download them properly.\n",
    "\n",
    "    \n",
    "### 🐧 *Linux Guide*\n",
    "- For linux, open up your **terminal**, and type `uname -p`, and you will see the current Linux Architecture you are using. For the corresponding Architecture, you would run the one of the following command lines:\n",
    "  - **aarch64** → `curl -O https://repo.anaconda.com/archive/Anaconda3-2024.10-1-Linux-aarch64.sh`\n",
    "  - **x86_64** → `curl -O https://repo.anaconda.com/archive/Anaconda3-2024.10-1-Linux-x86_64.sh` \n",
    "  - **s390x** → `curl -O https://repo.anaconda.com/archive/Anaconda3-2024.10-1-Linux-s390x.sh`\n",
    "\n",
    "- After that, run One of the following commands following your architecture:\n",
    "  - **aarch64** → `bash ~/Anaconda3-2024.10-1-Linux-aarch64.sh`\n",
    "  - **x86_64** → `bash ~/Anaconda3-2024.10-1-Linux-x86_64.sh` \n",
    "  - **s390x** → `bash ~/Anaconda3-2024.10-1-Linux-s390x.sh`\n",
    "\n",
    "- Press **Enter** and after that type `yes`.\n",
    "- Next it would show you the directory being downloaded to, press **Enter** to finish the download.\n",
    "- Finally, it will ask you if you want to activate conda's base environment everytime you open up the terminal, Type `yes` as it will make it easier for you to run anaconda commands. After that restart your terminal.\n",
    "-  Type `anaconda-navigator` from their terminal to Open up **Anaconda Navigator**.\n",
    "\n",
    "> => Once it is downloaded, run the installer.\n",
    "\n",
    "</div>"
   ]
  },
  {
   "cell_type": "markdown",
   "id": "af8562f9-4cda-4d16-b9e9-6c99dedae1e2",
   "metadata": {},
   "source": [
    "<div style='border:2px solid black; padding:10px'>\n",
    "\n",
    "## <strong> Step 3: Finishing Installation</strong>\n",
    "- For both Mac and Windows, the **default options** are sufficient and should not be changed, just click continue and proceed with the installation.\n",
    "\n",
    "- Open up **Anaconda Navigator**.\n",
    "\n",
    "\n",
    "</div>"
   ]
  },
  {
   "cell_type": "markdown",
   "id": "960488c4-4162-4336-9459-45f768b3271d",
   "metadata": {},
   "source": [
    "<a name='video-guide-(from-the-official-anaconda-website)'></a>\n",
    "## <span style='color:red'> Video Guide (from the Official Anaconda website) </span>\n"
   ]
  },
  {
   "cell_type": "code",
   "execution_count": 1,
   "id": "658784ae-3fa2-4be0-ab8e-55e487961681",
   "metadata": {
    "collapsed": true,
    "jupyter": {
     "outputs_hidden": true,
     "source_hidden": true
    },
    "scrolled": true
   },
   "outputs": [
    {
     "data": {
      "image/jpeg": "[encoded data removed]",
      "text/html": [
       "\n",
       "        <iframe\n",
       "            width=\"1000\"\n",
       "            height=\"500\"\n",
       "            src=\"https://www.youtube.com/embed/yFeVEAeOcnE\"\n",
       "            frameborder=\"0\"\n",
       "            allowfullscreen\n",
       "            \n",
       "        ></iframe>\n",
       "        "
      ],
      "text/plain": [
       "<IPython.lib.display.YouTubeVideo at 0x1a7e972c5f0>"
      ]
     },
     "execution_count": 1,
     "metadata": {},
     "output_type": "execute_result"
    }
   ],
   "source": [
    "# FOR WINDOWS\n",
    "from IPython.display import Video, Image, YouTubeVideo\n",
    "YouTubeVideo(\"yFeVEAeOcnE\", width=1000, height=500)"
   ]
  },
  {
   "cell_type": "code",
   "execution_count": 2,
   "id": "2b828f7b-47bd-4307-a2f9-af8e414d3b9a",
   "metadata": {
    "collapsed": true,
    "jupyter": {
     "outputs_hidden": true,
     "source_hidden": true
    }
   },
   "outputs": [
    {
     "data": {
      "image/jpeg": "[encoded data removed]",
      "text/html": [
       "\n",
       "        <iframe\n",
       "            width=\"1000\"\n",
       "            height=\"500\"\n",
       "            src=\"https://www.youtube.com/embed/DNu8pQOYRGg\"\n",
       "            frameborder=\"0\"\n",
       "            allowfullscreen\n",
       "            \n",
       "        ></iframe>\n",
       "        "
      ],
      "text/plain": [
       "<IPython.lib.display.YouTubeVideo at 0x286e2407170>"
      ]
     },
     "execution_count": 2,
     "metadata": {},
     "output_type": "execute_result"
    }
   ],
   "source": [
    "# FOR MACOS\n",
    "from IPython.display import Video, Image, YouTubeVideo\n",
    "YouTubeVideo('DNu8pQOYRGg', width = 1000, height = 500)"
   ]
  },
  {
   "cell_type": "code",
   "execution_count": 4,
   "id": "65360ce4-9f4a-4962-a7ad-c81e1306a452",
   "metadata": {
    "collapsed": true,
    "jupyter": {
     "outputs_hidden": true,
     "source_hidden": true
    }
   },
   "outputs": [
    {
     "data": {
      "image/jpeg": "[encoded data removed]",
      "text/html": [
       "\n",
       "        <iframe\n",
       "            width=\"1000\"\n",
       "            height=\"500\"\n",
       "            src=\"https://www.youtube.com/embed/sU2mXjOB-fA\"\n",
       "            frameborder=\"0\"\n",
       "            allowfullscreen\n",
       "            \n",
       "        ></iframe>\n",
       "        "
      ],
      "text/plain": [
       "<IPython.lib.display.YouTubeVideo at 0x286e2407ec0>"
      ]
     },
     "execution_count": 4,
     "metadata": {},
     "output_type": "execute_result"
    }
   ],
   "source": [
    "# For LINUX\n",
    "from IPython.display import Video, Image, YouTubeVideo\n",
    "YouTubeVideo('sU2mXjOB-fA', width = 1000, height = 500)"
   ]
  },
  {
   "cell_type": "markdown",
   "id": "14fcf0c8",
   "metadata": {},
   "source": [
    "<div class = 'alert alert-success'>\n",
    "✅ <strong>Anaconda Navigator</strong> is now Ready to be used. You now have access to all the essential tools for the course. There are also video guide below from the Official Anaconda Website. <break></break>\n",
    "</div>"
   ]
  },
  {
   "cell_type": "markdown",
   "id": "7b849f20",
   "metadata": {},
   "source": [
    "<a name='getting-used-to-anaconda'></a>\n",
    "## <span style='color:red'> Getting used to Anaconda </span>\n"
   ]
  },
  {
   "cell_type": "markdown",
   "id": "7d2b657d",
   "metadata": {},
   "source": [
    "### <span style = 'color:blue'> 1. Main Interface Overview"
   ]
  },
  {
   "cell_type": "markdown",
   "id": "7382e14b",
   "metadata": {},
   "source": [
    "<div style= 'border:2px solid black; padding:10px'>\n",
    "\n",
    "\n",
    "\n",
    "<img src= '../Pictures/Anaconda_navigator.png' style ='margin:10px auto; display:block; height:500px; width:1000px'>\n",
    "\n",
    "\n",
    "<div style=\"display: flex; justify-content: center;\">\n",
    "\n",
    "| Component   | Description                     |\n",
    "|-------------|---------------------------------|\n",
    "| Home        | Launch applications like Jupyter, Spyder, etc. |\n",
    "| Environments| Manage Conda environments       |\n",
    "| Learning    | Tutorials and documentation     |\n",
    "| Community   | Anaconda community resources    |\n",
    "\n",
    "</div>\n",
    "\n",
    "\n",
    "</div>"
   ]
  },
  {
   "cell_type": "markdown",
   "id": "ef110130",
   "metadata": {},
   "source": [
    "### <span style = 'color:blue'> 2. Managing Environments "
   ]
  },
  {
   "cell_type": "markdown",
   "id": "7db62d6e",
   "metadata": {},
   "source": [
    "<div style= 'border:2px solid black; padding:10px'>\n",
    "\n",
    "\n",
    "<img src=  '../Pictures/Anaconda_environments.png' style='width:1000px; display:block; height:500px; margin:10px auto'>\n",
    "\n",
    "*Default Environment (`base`)*\n",
    "- The default base environment (~560 packages) is pre-installed with Anaconda.  \n",
    "- Apps launched from Anaconda use `base` by default.  \n",
    "\n",
    "*Why Use Separate Environments?*\n",
    "- **Isolation**: Environments act like independent \"baskets\" for packages—errors in one won’t affect others.  \n",
    "- **Safety**: If an environment breaks, delete it and create a new one without reinstalling everything.  \n",
    "\n",
    "*Switching Environments*  \n",
    "1. Select your desired environment (e.g., `apex`) from the dropdown.  \n",
    "2. Launch apps (Jupyter, Spyder, etc.)—they’ll now use the selected environment.  \n",
    "\n",
    "\n",
    "*Environments customization*\n",
    "- **Create** new environments  \n",
    "- **Clone/Remove** existing ones  \n",
    "- **Import/Export** environments \n",
    "\n",
    "*(See screenshot for visual guide.)*\n",
    "\n",
    "</div>"
   ]
  },
  {
   "cell_type": "markdown",
   "id": "c75b6c68",
   "metadata": {},
   "source": [
    "### <span style = 'color:blue'> 3. Installing Packages </span>"
   ]
  },
  {
   "cell_type": "markdown",
   "id": "af7de2d7",
   "metadata": {},
   "source": [
    "<div style= 'border:2px solid black; padding:10px'>\n",
    "\n",
    "- Most packages come pre-installed in the **base** environment  \n",
    "- To add new packages in any environment, write this command:\n",
    "  ```python\n",
    "  %pip install <package>\n",
    "  ```\n",
    "  (Works in Jupyter Lab or VS Code **code** cells, as shown below)\n",
    "\n",
    "</div>"
   ]
  },
  {
   "cell_type": "markdown",
   "id": "7b5fc7cb",
   "metadata": {},
   "source": [
    "<a name='jupyter-lab-guide'></a>\n",
    "# <span style='color:orange'> Jupyter Lab guide </span>\n"
   ]
  },
  {
   "cell_type": "markdown",
   "id": "e416b285",
   "metadata": {},
   "source": [
    "- With the **base(root)** environment chosen navigate to the **Home** section in Anaconda Navigator.\n",
    "- Open up **Jupyter Lab**, it should have been automatically installed already, if its not then you're choosing the **wrong environment**."
   ]
  },
  {
   "cell_type": "markdown",
   "id": "0a1f63c0",
   "metadata": {},
   "source": [
    "<a name='main-overview'></a>\n",
    "## <span style='color:red'> Main Overview </span>\n"
   ]
  },
  {
   "cell_type": "markdown",
   "id": "bfb610b3",
   "metadata": {},
   "source": [
    "When opening up Jupyter Lab, Select **Python 3(ipykernel)** in the **Notebook** section, this should give make a new Jupyter Notebook file.\n",
    "\n",
    "Jupyter supports 3 cell types for mixed code and documentation:\n",
    "\n",
    "1. **Code Cells** - For executable code  \n",
    "2. **Markdown Cells** - For formatted text/explanations  \n",
    "3. **Raw Cells** - Unformatted plain text (rarely used)\n",
    "\n",
    "- Switch between types using the dropdown in the toolbar, it will change the current cell type. \n",
    "\n",
    "<img src = '../Pictures/Cell_types.png' style='width:1000px; display:block; height:500px; margin:10px auto'>\n",
    "\n",
    "\n",
    "Some useful shortcuts for cell actions in **Command mode** not **Edit Mode**, you can quit **Edit Mode** by pressing **Esc**.:\n",
    "\n",
    "| Action                        | Shortcut                     |\n",
    "| ----------------------------- | ---------------------------- |\n",
    "| Run cell (stay in cell)  | `Ctrl/Cmd + Enter`               |\n",
    "| Add cell below          | `B`                          |\n",
    "| Add cell above          | `A`                          |\n",
    "| Delete selected cell   | `D` then `D` (press D twice) |\n",
    "| Copy cell                | `C`                          |\n",
    "| Cut cell                 | `X`                          |\n",
    "| Paste cell below         | `V`                          |\n",
    "| Paste cell above         | `Shift + V`                  |\n",
    "| Change to Markdown cell   | `M`                          |\n",
    "| Change to Code cell      | `Y`                          |\n",
    "| Saving the file          | `Ctrl/Cmd + S`                    |\n"
   ]
  },
  {
   "cell_type": "markdown",
   "id": "0a9e70fc",
   "metadata": {},
   "source": [
    "### <span style = 'color:blue'> Markdown/Raw Cells"
   ]
  },
  {
   "cell_type": "markdown",
   "id": "695fa368",
   "metadata": {},
   "source": [
    "<div style = 'border: 2px solid black; padding: 10px'>\n",
    "\n",
    "*Markdown Cells*\n",
    "- Function like **Microsoft Word** - supports text formatting, images, and videos\n",
    "- **Not** interpreted as code (unlike code cells)\n",
    "- It also enables some formatting (you can copy these these formats and try it yourself):\n",
    "\n",
    "\n",
    "<span style='color:red'>Colored text</span>\n",
    "<div style='border:2px solid black; padding:10px'>Bordered box</div>\n",
    "<div class='alert alert-info'>Info alert box</div>\n",
    "\n",
    "\n",
    "*Raw Cells*\n",
    "- Plain text **without any formatting**\n",
    "- Rarely used due to limited functionality\n",
    "\n",
    "> Markdown streamlines documentation by combining formatted text with executable code.\n",
    "</div>"
   ]
  },
  {
   "cell_type": "markdown",
   "id": "b855b050",
   "metadata": {},
   "source": [
    "### <span style = 'color:blue'> Code cells"
   ]
  },
  {
   "cell_type": "code",
   "execution_count": 7,
   "id": "2319348f",
   "metadata": {},
   "outputs": [
    {
     "name": "stdout",
     "output_type": "stream",
     "text": [
      "Result: 6\n"
     ]
    }
   ],
   "source": [
    "# In code cells, we can put a \"#\" to denote a \"comment\"\n",
    "# Any text written here is considered plain text, this helps to explain a chunk of code\n",
    "\n",
    "# Here's a simple math function\n",
    "a = 5 + 1\n",
    "print(f'Result: {a}')"
   ]
  },
  {
   "cell_type": "code",
   "execution_count": null,
   "id": "65c8682e",
   "metadata": {},
   "outputs": [],
   "source": [
    "# You can also download packages using code cells\n",
    "%pip install yfinance"
   ]
  },
  {
   "cell_type": "markdown",
   "id": "cc3b4861",
   "metadata": {},
   "source": [
    "<a name='creating-and-exporting-a-notebook-on-lab'></a>\n",
    "## <span style='color:red'> Creating and exporting a Notebook on Lab </span>\n",
    "\n",
    "- To start with a new Notebook, Go to **File** and choose **New** then **Notebook**. Now you would be able to write your own work into this file.  \n",
    "  <img src='../Pictures/Jupyter_new_file.png' style='width:350px; display:block; height:500px; margin:10px auto'>\n",
    "\n",
    "- Below in the picture, you can also see the option **Save and Export Notebook As** — click on it and choose **HTML**.\n"
   ]
  },
  {
   "cell_type": "markdown",
   "id": "b4a31eda",
   "metadata": {},
   "source": [
    "<a name='accessing-folders'></a>\n",
    "## <span style='color:red'> Accessing Folders </span>\n"
   ]
  },
  {
   "cell_type": "markdown",
   "id": "a77ca731",
   "metadata": {},
   "source": [
    "- Click the **Folders** icon (left sidebar) to view files\n",
    "- Jupyter only accesses files within its **current working directory**\n",
    "- If you're file isn't in this directory, you cannot access it through Jupyter Lab.\n",
    "\n",
    "> See guide below to check your current directory\n",
    "\n",
    "<img src = '../Pictures/Jupyter_folder.png' style='width:350px; display:block; height:500px; margin:10px auto'>"
   ]
  },
  {
   "cell_type": "markdown",
   "id": "0c9126f3",
   "metadata": {},
   "source": [
    "<a name='checking-the-current-working-directory'></a>\n",
    "## <span style='color:red'> Checking the current working directory </span>\n"
   ]
  },
  {
   "cell_type": "markdown",
   "id": "574b7256",
   "metadata": {},
   "source": [
    "\n",
    "- On YOUR **Jupyter lab** Code cell write this function:\n",
    "```python\n",
    "import os\n",
    "os.getcwd() \n",
    "\n",
    "# Example Output (Your output should look like this)\n",
    "'C:\\\\Users\\\\LENOVO\\\\'\n",
    "```\n",
    "\n",
    "- It will Output the **Directory** that Jupyter is connecting to,  **copy that Directory Path** as it will be used later for Github Desktop.\n",
    "\n",
    "\n",
    "</div>"
   ]
  },
  {
   "cell_type": "markdown",
   "id": "3cdbe04f",
   "metadata": {},
   "source": [
    "<div class = 'alert alert-success'>\n",
    "\n",
    "**Note**:\n",
    "- You can now access any `.ipynb` files, \n",
    "- The next part of the guide shows how to download lectures from an online repository."
   ]
  },
  {
   "cell_type": "markdown",
   "id": "4396e5bf-5bfe-49a3-aae2-f84361f13c41",
   "metadata": {},
   "source": [
    "<a name='github-desktop'></a>\n",
    "# <span style='color:orange'> Github Desktop </span>\n",
    "<img src='../Pictures/Github_desktop.png' style='width:500px; height:250px; margin:10px auto; display:block'/>\n"
   ]
  },
  {
   "cell_type": "markdown",
   "id": "25321ad9-d649-46ad-8fa3-b5f26dcd4657",
   "metadata": {},
   "source": [
    "<a name='github-desktop-installation'></a>\n",
    "## <span style='color:red'> Github Desktop Installation </span>\n"
   ]
  },
  {
   "attachments": {},
   "cell_type": "markdown",
   "id": "bd20a1f3-e000-41ff-9fff-013c2802feac",
   "metadata": {},
   "source": [
    "<div style='border: 2px solid black; padding:10px'>\n",
    "    \n",
    "## **Step 1: Download GitHub Desktop**\n",
    "- Go to [Github Desktop](https://desktop.github.com/download/)\n",
    "  <img src='../Pictures/Github_download.png' style='width:850px; display:block; height:400px; margin:10px auto'>\n",
    "\n",
    "\n",
    "\n",
    "    \n",
    "### 🪟🍎 *Windows Guide and MacOS Guide*\n",
    "- For Windows, it is simple; we only need to click on either the **Default installation** or the **64-Bit Graphical Installer (912.3M)** to download.\n",
    "- Downloading GitHub is more Straightforward, for your corresponding system, click on either **Download for Windows (64-bit)** or **download for macOS**.\n",
    "- Once it is downloaded, run the installer.\n",
    "    \n",
    "\n",
    "\n",
    "\n",
    "> => Once it is downloaded, run the installer.\n",
    "\n",
    "</div>"
   ]
  },
  {
   "cell_type": "markdown",
   "id": "71140922",
   "metadata": {},
   "source": [
    "<div style='border: 2px solid black; padding:10px'>\n",
    "\n",
    "### 🐧 *Linux Guide*\n",
    "- For linux users, go to this website https://github.com/shiftkey/desktop, it will take you to a github repository.\n",
    "- Choose the correct version of your Linux system and download it.\n",
    "- Navigate to where you downloaded the file and right click, choose **Open Terminal in here**.\n",
    "- Use the command `sudo apt install ./<file>` or `sudo dpkg -i <file>`.\n",
    "\n",
    "</div>"
   ]
  },
  {
   "cell_type": "code",
   "execution_count": 3,
   "id": "f80496a1",
   "metadata": {},
   "outputs": [
    {
     "data": {
      "image/jpeg": "[encoded data removed]",
      "text/html": [
       "\n",
       "        <iframe\n",
       "            width=\"1000\"\n",
       "            height=\"500\"\n",
       "            src=\"https://www.youtube.com/embed/Foqs70mT2yc\"\n",
       "            frameborder=\"0\"\n",
       "            allowfullscreen\n",
       "            \n",
       "        ></iframe>\n",
       "        "
      ],
      "text/plain": [
       "<IPython.lib.display.YouTubeVideo at 0x1b0436afb00>"
      ]
     },
     "execution_count": 3,
     "metadata": {},
     "output_type": "execute_result"
    }
   ],
   "source": [
    "# For LINUX\n",
    "from IPython.display import Video, Image, YouTubeVideo\n",
    "YouTubeVideo('Foqs70mT2yc', width = 1000, height = 500)"
   ]
  },
  {
   "cell_type": "markdown",
   "id": "539b6f42-d52e-461d-8388-b598c0838e26",
   "metadata": {},
   "source": [
    "<div style = 'border:2px solid black; padding:10px'>\n",
    "    \n",
    "## **Step 2: Install GitHub Desktop**\n",
    "- Wait for it to **Install**\n",
    "- After opening GitHub, it would ask you to link with your **GitHub account** as well as **Configure Git**, **skip this step** and press **finish**, you can login later.\n",
    "</div>"
   ]
  },
  {
   "cell_type": "markdown",
   "id": "39d0f1ae",
   "metadata": {},
   "source": [
    "<a name = 'cloning-a-github-repository-downloading-data-from-github'> <a>\n",
    "## <span style = 'color:red'> Cloning a github repository downloading data from github"
   ]
  },
  {
   "cell_type": "markdown",
   "id": "ded05530-acb5-453d-b07e-1de1cf683a77",
   "metadata": {
    "jp-MarkdownHeadingCollapsed": true
   },
   "source": [
    "<div style=\"border: 2px solid black; padding: 10px;\">\n",
    "    \n",
    "## **Step 1: Obtain the URL**\n",
    "- First, go to [GitHub website](https://github.com/) and search for the name **Hikethemike** and look into the **Users** section.\n",
    "\n",
    "\n",
    "<img src='../Pictures/Cloning_1.png' alt =\"Drawing\" style='width:750px; height:275px; display:block; margin:10px auto'>\n",
    "\n",
    "- Now go to the **Repositories** section and look for **Codes** repository, click on it.\n",
    "\n",
    "<img src='../Pictures/Cloning_2.png' alt=\"Drawing\" style='width:750px; height:275px; display:block; margin:10px auto'>\n",
    "\n",
    "- **Get the HTTPS link**  \n",
    "   - Click the `<> Code` button\n",
    "   - Copy the provided URL\n",
    "\n",
    "\n",
    "<img src='../Pictures/Github_url.png' style='width:750px; height:375px; display:block; margin: 10px auto'>\n",
    "\n",
    "\n",
    "- Here's the link to my Github Repository: https://github.com/HiketheMike/Codes.git\n",
    "</div>"
   ]
  },
  {
   "attachments": {},
   "cell_type": "markdown",
   "id": "3f47c8a1-ab17-4b6f-96a7-a428746e58b9",
   "metadata": {},
   "source": [
    "<div style=\"border: 2px solid black; padding: 10px;\">\n",
    "    \n",
    "## **Step 2: Putting it all together** \n",
    "1. **Paste the HTTPS URL** (copied from GitHub)  \n",
    "2. **Set the Local Path** to your Jupyter Lab directory  \n",
    "   - The folder name (e.g., `Codes`) can be modified  \n",
    "\n",
    "> Note: Ensure the path matches Jupyter's working directory [as shown above](#checking-the-current-working-directory).\n",
    "\n",
    "<img src='../Pictures/Cloning_6.png' style='width:500px; height:275px; display:block; margin: 10px auto'>\n",
    "\n",
    "- It will Clone the GitHub Repository named **Codes** to your Laptop now.\n",
    "- Now go to Jupyter lab and [access the folder](#accessing-folders)."
   ]
  },
  {
   "cell_type": "markdown",
   "id": "8237f953",
   "metadata": {},
   "source": [
    "<a name='pulling-a-github-repository-updating-local-folder'></a>\n",
    "## <span style='color:red'> Pulling a GitHub Repository (Updating local folder) </span>\n",
    "\n",
    "*Clone vs Pull*\n",
    "\n",
    "- **Clone**: Downloads entire repository (files as-is at current date)  \n",
    "- **Pull**: Updates your local copy with new changes from remote\n",
    "\n",
    "*Checking for Updates*\n",
    "1. Click **Fetch Origin** to check for remote changes\n",
    "2. If updates exist, **Pull** to sync them locally\n",
    "\n",
    "<img src='../pictures/Fetch.png' style='width:850px; display:block; height:400px; margin:10px auto'>\n",
    "\n",
    "- If there **IS** any changes, then it will show up as **Pull Origin**, otherwise nothing would happen:  \n",
    "<img src='../pictures/Pulling.png' style='width:850px; display:block; height:400px; margin:10px auto'>\n",
    "\n",
    "- Click on it, and your local folder will be updated.\n"
   ]
  },
  {
   "cell_type": "markdown",
   "id": "147fcfdf",
   "metadata": {},
   "source": [
    "<div class=\"alert alert-success\">\n",
    "<strong>Note:</strong> To access the lectures instead:\n",
    "<ol>\n",
    "  <li>At the <strong>File</strong> section, click on <strong>Clone local repository</strong>.</li>\n",
    "  <img src = '../pictures/Clone.png' style='width:350px; height:275px; display:block; margin: 10px auto'>\n",
    "  <li>When searching on <strong>GitHub.com</strong>, use <code>DROCLB</code> instead of <code>Hikethemike</code> or just click here: <a href=\"https://github.com/DROCLB\" target=\"_blank\">Dr.Omer Cayirli's Repository</a></li>\n",
    "  <li>Redo the previous steps and Clone <code>ATDASS2025_VS_Optimized</code> repository to access its contents. Now you have access for <strong>files for your course</strong>.</li>\n",
    "</ol>\n",
    "</div>\n",
    "\n"
   ]
  },
  {
   "cell_type": "markdown",
   "id": "3a9302ae-165a-4fb7-bd4b-5747fd899242",
   "metadata": {},
   "source": [
    "<a name='visual-studio-code'></a>\n",
    "# <span style='color:orange'> Visual Studio Code </span>\n",
    "\n",
    "<img src=\"../Pictures/VSC_logo.png\" style=\"height:300px; width:500px; margin:10px auto; display: block\">\n",
    "\n",
    "- As an Optional Application for your Work, you can choose to use **Jupyter Lab** in Anaconda Navigator, that should suffice.  \n",
    "- VSC applications is however, very prominent in the industry and we should know how to use it as well.\n"
   ]
  },
  {
   "cell_type": "markdown",
   "id": "786d702c-76ce-4968-bfc5-4209a7151b82",
   "metadata": {},
   "source": [
    "<a name='visual-studio-code-installation'></a>\n",
    "## <span style='color:red'> Visual Studio Code Installation </span>\n"
   ]
  },
  {
   "attachments": {},
   "cell_type": "markdown",
   "id": "e498515d-a21a-492b-87df-3177a978db1d",
   "metadata": {},
   "source": [
    "<div style = 'border:2px solid black; padding:10px'>\n",
    "\n",
    "\n",
    "## **Step 1: Download Visual Studio Code**\n",
    "- Go to [Visual Studio Code](https://code.visualstudio.com/download) and choose the version for your system.\n",
    "\n",
    "<img src=\"../Pictures/VSC_download.png\" style=\"border:2px; margin:10px auto; width: 850px; height:450px; display:block\">\n",
    "\n",
    "\n",
    "    \n",
    "### 🪟 *Windows Guide*\n",
    "- For Windows, we only need to click on either the **Default installation** or the **64-Bit Graphical Installer (912.3M)** to download.\n",
    "\n",
    "\n",
    "    \n",
    "### 🍎*MacOS Guide*\n",
    "- For **Visual studio Code**, there is the **universal** installer, download it.\n",
    "- This version is compatible for both Intel and Apple Silicon.\n",
    "\n",
    "> => Once it is downloaded, run the installer.\n",
    "</div>"
   ]
  },
  {
   "cell_type": "markdown",
   "id": "8ae97704",
   "metadata": {},
   "source": [
    "<div style='border: 2px solid black; padding:10px'>\n",
    "\n",
    "### 🐧 *Linux Guide*\n",
    "- Choose the correct version of your Linux system and download it.\n",
    "- Navigate to where you downloaded the file and right click, choose **Open Terminal in here**.\n",
    "- Use the command `sudo apt install ./<file>` or `sudo dpkg -i <file>`.\n",
    "\n",
    "</div>"
   ]
  },
  {
   "cell_type": "code",
   "execution_count": 4,
   "id": "8b74ea29",
   "metadata": {},
   "outputs": [
    {
     "data": {
      "image/jpeg": "[encoded data removed]",
      "text/html": [
       "\n",
       "        <iframe\n",
       "            width=\"1000\"\n",
       "            height=\"500\"\n",
       "            src=\"https://www.youtube.com/embed/NX8SHmkuLn4\"\n",
       "            frameborder=\"0\"\n",
       "            allowfullscreen\n",
       "            \n",
       "        ></iframe>\n",
       "        "
      ],
      "text/plain": [
       "<IPython.lib.display.YouTubeVideo at 0x1b0436e5d30>"
      ]
     },
     "execution_count": 4,
     "metadata": {},
     "output_type": "execute_result"
    }
   ],
   "source": [
    "# For LINUX\n",
    "from IPython.display import Video, Image, YouTubeVideo\n",
    "YouTubeVideo('NX8SHmkuLn4', width = 1000, height = 500)"
   ]
  },
  {
   "cell_type": "markdown",
   "id": "0dae27c0-d21e-4a60-8123-ad845cf83d4f",
   "metadata": {},
   "source": [
    "<div style = 'border:2px solid black; padding:10px'>\n",
    "    \n",
    "## **Step 2: Installation**\n",
    "- For both Mac and Windows, the **default options** are sufficient and should not be changed, just click continue and proceed with the installation \n",
    "- Open up **Anaconda Navigator** and **Visual Studio Code** should appear as one of the installed apps across all Environments.\n",
    "<img src = '../Pictures/Anaconda_VSC.png'  style='width:850px; display:block; height:400px; margin:10px auto'>\n",
    "\n",
    "- And the Interface of Visual studio code should look like this:\n",
    "<img src='../Pictures/VSC_startup.png' style='width:850px; display:block; height:400px; margin:10px auto'>\n",
    "\n",
    "- Click on the <strong>Mark done</strong> at the bottom to proceed.</li>\n"
   ]
  },
  {
   "cell_type": "markdown",
   "id": "466ac049-c60b-4315-a71c-b39a85eaca7e",
   "metadata": {},
   "source": [
    "<div style = 'border:2px solid black; padding:10px'>\n",
    "    \n",
    "## **Step 3: Downloading Extensions** \n",
    "- As we are in VSC, we need to download the **Jupyter Notebook** and **python** extension, this is required for VSC to recognize and work with Jupyter Notebook (.ipynb) files.\n",
    "- On the top, go to **Search [Administrator]** and type `>Extensions: Install Extensions`, and there should be Extensions appear on the Left of your screen.\n",
    "- In that tab, type **Jupyter extension** and install it if you have not installed it  \n",
    "\n",
    "<img src = '../Pictures/Jupyter_extension.png' style='width:850px; display:block; height:400px; margin:10px auto'>\n",
    "\n",
    "- Do the same for the **Python extension** \n",
    "\n",
    "<img src = '../Pictures/Python_extension.png' style='width:850px; display:block; height:400px; margin:10px auto'>\n",
    "</div>"
   ]
  },
  {
   "cell_type": "markdown",
   "id": "1db940cf",
   "metadata": {},
   "source": [
    "<a name='creating-and-exporting-a-notebook-on-vsc'></a>\n",
    "## <span style='color:red'> Creating and Exporting a Notebook on VSC </span>\n"
   ]
  },
  {
   "cell_type": "markdown",
   "id": "ebfcbdff",
   "metadata": {},
   "source": [
    "- Click on **File**, click on **New File**, and a prompt will pop up, choose **Jupyter Notebook**.\n",
    "- To export a File, click on the **Ellipsis** here and choose **Export**.\n",
    "<img src = \"../pictures/Export_VSC.png\" style='width:750px; display:block; height:200px; margin:10px auto'>\n",
    "- Choose **HTML**"
   ]
  },
  {
   "cell_type": "markdown",
   "id": "8f6da3ec",
   "metadata": {},
   "source": [
    "<a name='choosing-the-folder-downloaded-from-github-desktop'></a>\n",
    "## <span style='color:red'> Choosing the folder downloaded from Github Desktop </span>\n"
   ]
  },
  {
   "cell_type": "markdown",
   "id": "c92a7666",
   "metadata": {},
   "source": [
    "- In Visual Studio Code, go to the **Folders symbol** on the left hand side.\n",
    "- Unlike **Jupyter Lab**, we need to **Choose** the folder that we need to run\n",
    "- Choose **Open Folder** and look for the folder containing the lectures.\n",
    "\n",
    "<img src = ..\\\\pictures\\\\VSC_folder.png style='width:350px; display:block; height:800px; margin:10px auto'>"
   ]
  },
  {
   "cell_type": "markdown",
   "id": "52f43d9a",
   "metadata": {},
   "source": [
    "<div class=\"alert alert-success\">\n",
    "<strong>✅ Visual Studio Code is Ready!</strong>\n",
    "    \n",
    "<p style=\"margin-bottom: 5px;\">You can now use <strong>Visual Studio Code</strong> through Anaconda Navigator</p>\n",
    "\n",
    "</div>"
   ]
  }
 ],
 "metadata": {
  "kernelspec": {
   "display_name": "apex",
   "language": "python",
   "name": "python3"
  },
  "language_info": {
   "codemirror_mode": {
    "name": "ipython",
    "version": 3
   },
   "file_extension": ".py",
   "mimetype": "text/x-python",
   "name": "python",
   "nbconvert_exporter": "python",
   "pygments_lexer": "ipython3",
   "version": "3.12.9"
  }
 },
 "nbformat": 4,
 "nbformat_minor": 5
}
